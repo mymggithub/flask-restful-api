{
 "cells": [
  {
   "cell_type": "code",
   "execution_count": 52,
   "id": "0655fc14",
   "metadata": {},
   "outputs": [],
   "source": [
    "import mysql.connector"
   ]
  },
  {
   "cell_type": "code",
   "execution_count": 53,
   "id": "b0f330c9",
   "metadata": {},
   "outputs": [],
   "source": [
    "import json"
   ]
  },
  {
   "cell_type": "code",
   "execution_count": 54,
   "id": "72f354a8",
   "metadata": {},
   "outputs": [],
   "source": [
    "mydb = mysql.connector.connect(\n",
    "\thost=\"127.0.0.1\", \n",
    "\tuser=\"root\", \n",
    "\tpasswd=\"pass123word\",\n",
    "\tdatabase=\"yiiadv\"\n",
    ")"
   ]
  },
  {
   "cell_type": "code",
   "execution_count": 55,
   "id": "5d27431e",
   "metadata": {},
   "outputs": [],
   "source": [
    "mycursor = mydb.cursor(dictionary=True)"
   ]
  },
  {
   "cell_type": "code",
   "execution_count": null,
   "id": "5f0efadb",
   "metadata": {},
   "outputs": [],
   "source": [
    "mycursor.execute(\"SELECT * FROM `twitter` WHERE t_username = '{0}'\".format(\"SpaceDraggie\"))"
   ]
  },
  {
   "cell_type": "code",
   "execution_count": null,
   "id": "a0738a9d",
   "metadata": {},
   "outputs": [],
   "source": [
    "myresult = mycursor.fetchall()"
   ]
  },
  {
   "cell_type": "code",
   "execution_count": null,
   "id": "9af37798",
   "metadata": {},
   "outputs": [],
   "source": [
    "len(myresult)"
   ]
  },
  {
   "cell_type": "code",
   "execution_count": 50,
   "id": "e5f597bd",
   "metadata": {},
   "outputs": [],
   "source": [
    "mycursor.execute(\"SELECT * FROM `twitter` WHERE t_username = '{0}'\".format(\"SpaceDraggie1\"))"
   ]
  },
  {
   "cell_type": "code",
   "execution_count": 51,
   "id": "50bef1fe",
   "metadata": {},
   "outputs": [
    {
     "data": {
      "text/plain": [
       "<mysql.connector.cursor.MySQLCursorDict at 0x7fb9c875ea90>"
      ]
     },
     "execution_count": 51,
     "metadata": {},
     "output_type": "execute_result"
    }
   ],
   "source": [
    "mycursor"
   ]
  },
  {
   "cell_type": "code",
   "execution_count": null,
   "id": "6e20336f",
   "metadata": {},
   "outputs": [],
   "source": []
  }
 ],
 "metadata": {
  "kernelspec": {
   "display_name": "Python 3 (ipykernel)",
   "language": "python",
   "name": "python3"
  },
  "language_info": {
   "codemirror_mode": {
    "name": "ipython",
    "version": 3
   },
   "file_extension": ".py",
   "mimetype": "text/x-python",
   "name": "python",
   "nbconvert_exporter": "python",
   "pygments_lexer": "ipython3",
   "version": "3.9.2"
  }
 },
 "nbformat": 4,
 "nbformat_minor": 5
}
